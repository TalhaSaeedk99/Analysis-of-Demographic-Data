{
 "cells": [
  {
   "cell_type": "code",
   "execution_count": 25,
   "id": "77c1a34f",
   "metadata": {},
   "outputs": [],
   "source": [
    "import numpy as np\n",
    "import pandas as pd"
   ]
  },
  {
   "cell_type": "code",
   "execution_count": 26,
   "id": "f8c09657",
   "metadata": {},
   "outputs": [],
   "source": [
    "#The data is provided in the form of a csv file. Data from the csv file is converted into a dataframe for analysis using python.\n",
    "data_frame = pd.read_csv('adult.data.csv')\n",
    "#All the column names are freed from the unnecessary spaces around them to make calling of the columns easier later on.\n",
    "list_=[]\n",
    "for col in data_frame.columns:\n",
    "    col_=col.strip()\n",
    "    list_.append(col_)\n",
    "data_frame.columns=list_"
   ]
  },
  {
   "cell_type": "code",
   "execution_count": 28,
   "id": "a89e69f1",
   "metadata": {},
   "outputs": [
    {
     "data": {
      "text/html": [
       "<div>\n",
       "<style scoped>\n",
       "    .dataframe tbody tr th:only-of-type {\n",
       "        vertical-align: middle;\n",
       "    }\n",
       "\n",
       "    .dataframe tbody tr th {\n",
       "        vertical-align: top;\n",
       "    }\n",
       "\n",
       "    .dataframe thead th {\n",
       "        text-align: right;\n",
       "    }\n",
       "</style>\n",
       "<table border=\"1\" class=\"dataframe\">\n",
       "  <thead>\n",
       "    <tr style=\"text-align: right;\">\n",
       "      <th></th>\n",
       "      <th>age</th>\n",
       "      <th>workclass</th>\n",
       "      <th>fnlwgt</th>\n",
       "      <th>education</th>\n",
       "      <th>education-num</th>\n",
       "      <th>marital-status</th>\n",
       "      <th>occupation</th>\n",
       "      <th>relationship</th>\n",
       "      <th>race</th>\n",
       "      <th>sex</th>\n",
       "      <th>capital-gain</th>\n",
       "      <th>capital-loss</th>\n",
       "      <th>hours-per-week</th>\n",
       "      <th>native-country</th>\n",
       "      <th>salary</th>\n",
       "    </tr>\n",
       "  </thead>\n",
       "  <tbody>\n",
       "    <tr>\n",
       "      <th>0</th>\n",
       "      <td>39</td>\n",
       "      <td>State-gov</td>\n",
       "      <td>77516</td>\n",
       "      <td>Bachelors</td>\n",
       "      <td>13</td>\n",
       "      <td>Never-married</td>\n",
       "      <td>Adm-clerical</td>\n",
       "      <td>Not-in-family</td>\n",
       "      <td>White</td>\n",
       "      <td>Male</td>\n",
       "      <td>2174</td>\n",
       "      <td>0</td>\n",
       "      <td>40</td>\n",
       "      <td>United-States</td>\n",
       "      <td>&lt;=50K</td>\n",
       "    </tr>\n",
       "    <tr>\n",
       "      <th>1</th>\n",
       "      <td>50</td>\n",
       "      <td>Self-emp-not-inc</td>\n",
       "      <td>83311</td>\n",
       "      <td>Bachelors</td>\n",
       "      <td>13</td>\n",
       "      <td>Married-civ-spouse</td>\n",
       "      <td>Exec-managerial</td>\n",
       "      <td>Husband</td>\n",
       "      <td>White</td>\n",
       "      <td>Male</td>\n",
       "      <td>0</td>\n",
       "      <td>0</td>\n",
       "      <td>13</td>\n",
       "      <td>United-States</td>\n",
       "      <td>&lt;=50K</td>\n",
       "    </tr>\n",
       "    <tr>\n",
       "      <th>2</th>\n",
       "      <td>38</td>\n",
       "      <td>Private</td>\n",
       "      <td>215646</td>\n",
       "      <td>HS-grad</td>\n",
       "      <td>9</td>\n",
       "      <td>Divorced</td>\n",
       "      <td>Handlers-cleaners</td>\n",
       "      <td>Not-in-family</td>\n",
       "      <td>White</td>\n",
       "      <td>Male</td>\n",
       "      <td>0</td>\n",
       "      <td>0</td>\n",
       "      <td>40</td>\n",
       "      <td>United-States</td>\n",
       "      <td>&lt;=50K</td>\n",
       "    </tr>\n",
       "    <tr>\n",
       "      <th>3</th>\n",
       "      <td>53</td>\n",
       "      <td>Private</td>\n",
       "      <td>234721</td>\n",
       "      <td>11th</td>\n",
       "      <td>7</td>\n",
       "      <td>Married-civ-spouse</td>\n",
       "      <td>Handlers-cleaners</td>\n",
       "      <td>Husband</td>\n",
       "      <td>Black</td>\n",
       "      <td>Male</td>\n",
       "      <td>0</td>\n",
       "      <td>0</td>\n",
       "      <td>40</td>\n",
       "      <td>United-States</td>\n",
       "      <td>&lt;=50K</td>\n",
       "    </tr>\n",
       "    <tr>\n",
       "      <th>4</th>\n",
       "      <td>28</td>\n",
       "      <td>Private</td>\n",
       "      <td>338409</td>\n",
       "      <td>Bachelors</td>\n",
       "      <td>13</td>\n",
       "      <td>Married-civ-spouse</td>\n",
       "      <td>Prof-specialty</td>\n",
       "      <td>Wife</td>\n",
       "      <td>Black</td>\n",
       "      <td>Female</td>\n",
       "      <td>0</td>\n",
       "      <td>0</td>\n",
       "      <td>40</td>\n",
       "      <td>Cuba</td>\n",
       "      <td>&lt;=50K</td>\n",
       "    </tr>\n",
       "    <tr>\n",
       "      <th>...</th>\n",
       "      <td>...</td>\n",
       "      <td>...</td>\n",
       "      <td>...</td>\n",
       "      <td>...</td>\n",
       "      <td>...</td>\n",
       "      <td>...</td>\n",
       "      <td>...</td>\n",
       "      <td>...</td>\n",
       "      <td>...</td>\n",
       "      <td>...</td>\n",
       "      <td>...</td>\n",
       "      <td>...</td>\n",
       "      <td>...</td>\n",
       "      <td>...</td>\n",
       "      <td>...</td>\n",
       "    </tr>\n",
       "    <tr>\n",
       "      <th>32556</th>\n",
       "      <td>27</td>\n",
       "      <td>Private</td>\n",
       "      <td>257302</td>\n",
       "      <td>Assoc-acdm</td>\n",
       "      <td>12</td>\n",
       "      <td>Married-civ-spouse</td>\n",
       "      <td>Tech-support</td>\n",
       "      <td>Wife</td>\n",
       "      <td>White</td>\n",
       "      <td>Female</td>\n",
       "      <td>0</td>\n",
       "      <td>0</td>\n",
       "      <td>38</td>\n",
       "      <td>United-States</td>\n",
       "      <td>&lt;=50K</td>\n",
       "    </tr>\n",
       "    <tr>\n",
       "      <th>32557</th>\n",
       "      <td>40</td>\n",
       "      <td>Private</td>\n",
       "      <td>154374</td>\n",
       "      <td>HS-grad</td>\n",
       "      <td>9</td>\n",
       "      <td>Married-civ-spouse</td>\n",
       "      <td>Machine-op-inspct</td>\n",
       "      <td>Husband</td>\n",
       "      <td>White</td>\n",
       "      <td>Male</td>\n",
       "      <td>0</td>\n",
       "      <td>0</td>\n",
       "      <td>40</td>\n",
       "      <td>United-States</td>\n",
       "      <td>&gt;50K</td>\n",
       "    </tr>\n",
       "    <tr>\n",
       "      <th>32558</th>\n",
       "      <td>58</td>\n",
       "      <td>Private</td>\n",
       "      <td>151910</td>\n",
       "      <td>HS-grad</td>\n",
       "      <td>9</td>\n",
       "      <td>Widowed</td>\n",
       "      <td>Adm-clerical</td>\n",
       "      <td>Unmarried</td>\n",
       "      <td>White</td>\n",
       "      <td>Female</td>\n",
       "      <td>0</td>\n",
       "      <td>0</td>\n",
       "      <td>40</td>\n",
       "      <td>United-States</td>\n",
       "      <td>&lt;=50K</td>\n",
       "    </tr>\n",
       "    <tr>\n",
       "      <th>32559</th>\n",
       "      <td>22</td>\n",
       "      <td>Private</td>\n",
       "      <td>201490</td>\n",
       "      <td>HS-grad</td>\n",
       "      <td>9</td>\n",
       "      <td>Never-married</td>\n",
       "      <td>Adm-clerical</td>\n",
       "      <td>Own-child</td>\n",
       "      <td>White</td>\n",
       "      <td>Male</td>\n",
       "      <td>0</td>\n",
       "      <td>0</td>\n",
       "      <td>20</td>\n",
       "      <td>United-States</td>\n",
       "      <td>&lt;=50K</td>\n",
       "    </tr>\n",
       "    <tr>\n",
       "      <th>32560</th>\n",
       "      <td>52</td>\n",
       "      <td>Self-emp-inc</td>\n",
       "      <td>287927</td>\n",
       "      <td>HS-grad</td>\n",
       "      <td>9</td>\n",
       "      <td>Married-civ-spouse</td>\n",
       "      <td>Exec-managerial</td>\n",
       "      <td>Wife</td>\n",
       "      <td>White</td>\n",
       "      <td>Female</td>\n",
       "      <td>15024</td>\n",
       "      <td>0</td>\n",
       "      <td>40</td>\n",
       "      <td>United-States</td>\n",
       "      <td>&gt;50K</td>\n",
       "    </tr>\n",
       "  </tbody>\n",
       "</table>\n",
       "<p>32561 rows × 15 columns</p>\n",
       "</div>"
      ],
      "text/plain": [
       "       age         workclass  fnlwgt   education  education-num  \\\n",
       "0       39         State-gov   77516   Bachelors             13   \n",
       "1       50  Self-emp-not-inc   83311   Bachelors             13   \n",
       "2       38           Private  215646     HS-grad              9   \n",
       "3       53           Private  234721        11th              7   \n",
       "4       28           Private  338409   Bachelors             13   \n",
       "...    ...               ...     ...         ...            ...   \n",
       "32556   27           Private  257302  Assoc-acdm             12   \n",
       "32557   40           Private  154374     HS-grad              9   \n",
       "32558   58           Private  151910     HS-grad              9   \n",
       "32559   22           Private  201490     HS-grad              9   \n",
       "32560   52      Self-emp-inc  287927     HS-grad              9   \n",
       "\n",
       "           marital-status         occupation   relationship   race     sex  \\\n",
       "0           Never-married       Adm-clerical  Not-in-family  White    Male   \n",
       "1      Married-civ-spouse    Exec-managerial        Husband  White    Male   \n",
       "2                Divorced  Handlers-cleaners  Not-in-family  White    Male   \n",
       "3      Married-civ-spouse  Handlers-cleaners        Husband  Black    Male   \n",
       "4      Married-civ-spouse     Prof-specialty           Wife  Black  Female   \n",
       "...                   ...                ...            ...    ...     ...   \n",
       "32556  Married-civ-spouse       Tech-support           Wife  White  Female   \n",
       "32557  Married-civ-spouse  Machine-op-inspct        Husband  White    Male   \n",
       "32558             Widowed       Adm-clerical      Unmarried  White  Female   \n",
       "32559       Never-married       Adm-clerical      Own-child  White    Male   \n",
       "32560  Married-civ-spouse    Exec-managerial           Wife  White  Female   \n",
       "\n",
       "       capital-gain  capital-loss  hours-per-week native-country salary  \n",
       "0              2174             0              40  United-States  <=50K  \n",
       "1                 0             0              13  United-States  <=50K  \n",
       "2                 0             0              40  United-States  <=50K  \n",
       "3                 0             0              40  United-States  <=50K  \n",
       "4                 0             0              40           Cuba  <=50K  \n",
       "...             ...           ...             ...            ...    ...  \n",
       "32556             0             0              38  United-States  <=50K  \n",
       "32557             0             0              40  United-States   >50K  \n",
       "32558             0             0              40  United-States  <=50K  \n",
       "32559             0             0              20  United-States  <=50K  \n",
       "32560         15024             0              40  United-States   >50K  \n",
       "\n",
       "[32561 rows x 15 columns]"
      ]
     },
     "execution_count": 28,
     "metadata": {},
     "output_type": "execute_result"
    }
   ],
   "source": [
    "#The data is displayed in the form of datframe\n",
    "data_frame"
   ]
  },
  {
   "cell_type": "code",
   "execution_count": 29,
   "id": "e8d54e72",
   "metadata": {},
   "outputs": [
    {
     "data": {
      "text/plain": [
       "0        White\n",
       "1        White\n",
       "2        White\n",
       "3        Black\n",
       "4        Black\n",
       "         ...  \n",
       "32556    White\n",
       "32557    White\n",
       "32558    White\n",
       "32559    White\n",
       "32560    White\n",
       "Name: race, Length: 32561, dtype: object"
      ]
     },
     "execution_count": 29,
     "metadata": {},
     "output_type": "execute_result"
    }
   ],
   "source": [
    "#All the column names are freed from the unnecessary spaces around them.\n",
    "list0 = []\n",
    "for entry in data_frame['race']:\n",
    "    entry = entry.strip()\n",
    "    list0.append(entry)\n",
    "data_frame['race']=list0\n",
    "data_frame['race']"
   ]
  },
  {
   "cell_type": "code",
   "execution_count": 30,
   "id": "2e59c8ea",
   "metadata": {},
   "outputs": [
    {
     "data": {
      "text/plain": [
       "array(['White', 'Black', 'Asian-Pac-Islander', 'Amer-Indian-Eskimo',\n",
       "       'Other'], dtype=object)"
      ]
     },
     "execution_count": 30,
     "metadata": {},
     "output_type": "execute_result"
    }
   ],
   "source": [
    "#The following piece of code is run to know the different races of people in the datframe.\n",
    "data_frame['race'].unique()"
   ]
  },
  {
   "cell_type": "code",
   "execution_count": 31,
   "id": "81676b07",
   "metadata": {},
   "outputs": [
    {
     "data": {
      "text/plain": [
       "27816"
      ]
     },
     "execution_count": 31,
     "metadata": {},
     "output_type": "execute_result"
    }
   ],
   "source": [
    "#Number of white people.\n",
    "Number_of_White_People = data_frame['race'][data_frame['race'] == 'White'].count()\n",
    "Number_of_White_People"
   ]
  },
  {
   "cell_type": "code",
   "execution_count": 32,
   "id": "3b4456ca",
   "metadata": {},
   "outputs": [
    {
     "data": {
      "text/plain": [
       "3124"
      ]
     },
     "execution_count": 32,
     "metadata": {},
     "output_type": "execute_result"
    }
   ],
   "source": [
    "#Number of Black People\n",
    "Number_of_Black_People = data_frame['race'][data_frame['race'] == 'Black'].count()\n",
    "Number_of_Black_People "
   ]
  },
  {
   "cell_type": "code",
   "execution_count": 33,
   "id": "09ebe1ce",
   "metadata": {},
   "outputs": [
    {
     "data": {
      "text/plain": [
       "1039"
      ]
     },
     "execution_count": 33,
     "metadata": {},
     "output_type": "execute_result"
    }
   ],
   "source": [
    "#Number of Asian_Pac_Islander People\n",
    "Number_of_Asian_Pac_Islander_People = data_frame['race'][data_frame['race'] == 'Asian-Pac-Islander'].count()\n",
    "Number_of_Asian_Pac_Islander_People"
   ]
  },
  {
   "cell_type": "code",
   "execution_count": 34,
   "id": "7895579c",
   "metadata": {},
   "outputs": [
    {
     "data": {
      "text/plain": [
       "311"
      ]
     },
     "execution_count": 34,
     "metadata": {},
     "output_type": "execute_result"
    }
   ],
   "source": [
    "#Numberc of Amer_Indian_Eskimo People\n",
    "Number_of_Amer_Indian_Eskimo_People = data_frame['race'][data_frame['race'] == 'Amer-Indian-Eskimo'].count()\n",
    "Number_of_Amer_Indian_Eskimo_People "
   ]
  },
  {
   "cell_type": "code",
   "execution_count": 35,
   "id": "0e65492e",
   "metadata": {},
   "outputs": [
    {
     "data": {
      "text/plain": [
       "271"
      ]
     },
     "execution_count": 35,
     "metadata": {},
     "output_type": "execute_result"
    }
   ],
   "source": [
    "#Number of Other People\n",
    "Number_of_Other_People = data_frame['race'][data_frame['race'] == 'Other'].count()\n",
    "Number_of_Other_People "
   ]
  },
  {
   "cell_type": "code",
   "execution_count": 36,
   "id": "f6c7cd7b",
   "metadata": {},
   "outputs": [
    {
     "data": {
      "text/plain": [
       "White                 27816\n",
       "Black                  3124\n",
       "Asian_Pac_Islander     1039\n",
       "Amer_Indian_Eskimo      311\n",
       "Other                   271\n",
       "dtype: int64"
      ]
     },
     "execution_count": 36,
     "metadata": {},
     "output_type": "execute_result"
    }
   ],
   "source": [
    "#Number of people belonging to each race displayed in tabular form.\n",
    "Solution1 = pd.Series([Number_of_White_People,Number_of_Black_People,Number_of_Asian_Pac_Islander_People,Number_of_Amer_Indian_Eskimo_People,Number_of_Other_People], index=['White','Black','Asian_Pac_Islander','Amer_Indian_Eskimo','Other'])\n",
    "Solution1"
   ]
  },
  {
   "cell_type": "code",
   "execution_count": 37,
   "id": "95bcd6b9",
   "metadata": {},
   "outputs": [
    {
     "data": {
      "text/plain": [
       "38.58164675532078"
      ]
     },
     "execution_count": 37,
     "metadata": {},
     "output_type": "execute_result"
    }
   ],
   "source": [
    "#Average age of all the men.\n",
    "Solution2 = np.mean(data_frame['age'])\n",
    "Solution2"
   ]
  },
  {
   "cell_type": "code",
   "execution_count": 38,
   "id": "d679158a",
   "metadata": {},
   "outputs": [
    {
     "data": {
      "text/plain": [
       "'16.44605509658794%'"
      ]
     },
     "execution_count": 38,
     "metadata": {},
     "output_type": "execute_result"
    }
   ],
   "source": [
    "#Percentage of people of who have Bachelor's degree.\n",
    "list2 = []\n",
    "for edu in data_frame['education']:\n",
    "    edu_ = edu.strip()\n",
    "    list2.append(edu_)\n",
    "\n",
    "data_frame['education'] = list2\n",
    "\n",
    "Solution3_ = (data_frame['education'][data_frame['education'] == 'Bachelors'].count()/data_frame['education'].count())*100 \n",
    "Solution3 = f'{Solution3_}' + '%'\n",
    "Solution3"
   ]
  },
  {
   "cell_type": "code",
   "execution_count": 39,
   "id": "efb4053b",
   "metadata": {},
   "outputs": [
    {
     "data": {
      "text/plain": [
       "0        <=50K\n",
       "1        <=50K\n",
       "2        <=50K\n",
       "3        <=50K\n",
       "4        <=50K\n",
       "         ...  \n",
       "32556    <=50K\n",
       "32557     >50K\n",
       "32558    <=50K\n",
       "32559    <=50K\n",
       "32560     >50K\n",
       "Name: salary, Length: 32561, dtype: object"
      ]
     },
     "execution_count": 39,
     "metadata": {},
     "output_type": "execute_result"
    }
   ],
   "source": [
    "#Percentage of people that have Bachelors, Masters, or Doctorate degree and make more than 50K.\n",
    "list3 = []\n",
    "for sal in data_frame['salary']:\n",
    "    sal_ = sal.strip()\n",
    "    list3.append(sal_)\n",
    "\n",
    "data_frame['salary'] = list3\n",
    "data_frame['salary']\n"
   ]
  },
  {
   "cell_type": "code",
   "execution_count": 40,
   "id": "7d6e44f5",
   "metadata": {
    "scrolled": true
   },
   "outputs": [
    {
     "data": {
      "text/plain": [
       "10.706059396210192"
      ]
     },
     "execution_count": 40,
     "metadata": {},
     "output_type": "execute_result"
    }
   ],
   "source": [
    "#Percentage of people with the degree of Bachelors, Masters, or Doctorate who make more than 50K\n",
    "Solution5 = (data_frame['salary'][\n",
    "    ((data_frame['education'] == 'Bachelors') | (data_frame['education'] == 'Masters') | (data_frame['education'] == 'Doctorate')) &\n",
    "    (data_frame['salary'] == '>50K')\n",
    "].count()/data_frame['salary'].count())*100\n",
    "Solution5"
   ]
  },
  {
   "cell_type": "code",
   "execution_count": 41,
   "id": "d50eda4e",
   "metadata": {},
   "outputs": [
    {
     "data": {
      "text/plain": [
       "13.374896348392248"
      ]
     },
     "execution_count": 41,
     "metadata": {},
     "output_type": "execute_result"
    }
   ],
   "source": [
    "#Percentage of people without the degree of Bachelors, Masters, or Doctorate who make more than 50K\n",
    "Solution6 = (data_frame['salary'][\n",
    "    ((data_frame['education'] != 'Bachelors') & (data_frame['education'] != 'Masters') & (data_frame['education'] != 'Doctorate')) &\n",
    "    (data_frame['salary'] == '>50K')\n",
    "].count()/data_frame['salary'].count())*100\n",
    "Solution6"
   ]
  },
  {
   "cell_type": "code",
   "execution_count": 42,
   "id": "b02f2341",
   "metadata": {},
   "outputs": [
    {
     "data": {
      "text/plain": [
       "1"
      ]
     },
     "execution_count": 42,
     "metadata": {},
     "output_type": "execute_result"
    }
   ],
   "source": [
    "#The minimum number of hours a person works per week.\n",
    "Solution7 = np.min(data_frame['hours-per-week'])\n",
    "Solution7"
   ]
  },
  {
   "cell_type": "code",
   "execution_count": 43,
   "id": "c4118d9a",
   "metadata": {},
   "outputs": [
    {
     "data": {
      "text/plain": [
       "0.006142317496391388"
      ]
     },
     "execution_count": 43,
     "metadata": {},
     "output_type": "execute_result"
    }
   ],
   "source": [
    "#Percentage of the people who work the minimum number of hours per week and have a salary of more than 50K.\n",
    "Solution8 = (data_frame['salary'][(data_frame['hours-per-week'].astype(object) == Solution7) & (data_frame['hours-per-week'][data_frame['salary'] == '>50K'])].astype(object).count())/(data_frame['age'].count())*100\n",
    "Solution8"
   ]
  },
  {
   "cell_type": "code",
   "execution_count": 44,
   "id": "a8ab6b68",
   "metadata": {},
   "outputs": [
    {
     "data": {
      "text/html": [
       "<div>\n",
       "<style scoped>\n",
       "    .dataframe tbody tr th:only-of-type {\n",
       "        vertical-align: middle;\n",
       "    }\n",
       "\n",
       "    .dataframe tbody tr th {\n",
       "        vertical-align: top;\n",
       "    }\n",
       "\n",
       "    .dataframe thead th {\n",
       "        text-align: right;\n",
       "    }\n",
       "</style>\n",
       "<table border=\"1\" class=\"dataframe\">\n",
       "  <thead>\n",
       "    <tr style=\"text-align: right;\">\n",
       "      <th></th>\n",
       "      <th>Percentage</th>\n",
       "    </tr>\n",
       "  </thead>\n",
       "  <tbody>\n",
       "    <tr>\n",
       "      <th>Iran</th>\n",
       "      <td>41.860465</td>\n",
       "    </tr>\n",
       "  </tbody>\n",
       "</table>\n",
       "</div>"
      ],
      "text/plain": [
       "      Percentage\n",
       "Iran   41.860465"
      ]
     },
     "execution_count": 44,
     "metadata": {},
     "output_type": "execute_result"
    }
   ],
   "source": [
    "#Country that has the highest percentage of people that earn more that 50K.\n",
    "list4 = data_frame['native-country'].unique()\n",
    "list5 = pd.Series(list4)\n",
    "list6 = []\n",
    "list7 = []\n",
    "a=0\n",
    "while a <= np.max(list5.index):\n",
    "    x = ((data_frame['salary'][(data_frame['salary'] == '>50K') & (data_frame['native-country'] == list4[a])].count())/(data_frame['salary'][(data_frame['native-country'] == list4[a])].count()))*100\n",
    "    list6.append(x)\n",
    "    list7.append(list4[a])\n",
    "    Series6 = pd.Series(list6, index = list7)\n",
    "    df6 = pd.DataFrame(Series6, columns = ['Percentage'])\n",
    "    a = a + 1\n",
    "df6[df6['Percentage'] == np.max(df6)]"
   ]
  },
  {
   "cell_type": "code",
   "execution_count": 45,
   "id": "3484930b",
   "metadata": {},
   "outputs": [
    {
     "data": {
      "text/html": [
       "<div>\n",
       "<style scoped>\n",
       "    .dataframe tbody tr th:only-of-type {\n",
       "        vertical-align: middle;\n",
       "    }\n",
       "\n",
       "    .dataframe tbody tr th {\n",
       "        vertical-align: top;\n",
       "    }\n",
       "\n",
       "    .dataframe thead th {\n",
       "        text-align: right;\n",
       "    }\n",
       "</style>\n",
       "<table border=\"1\" class=\"dataframe\">\n",
       "  <thead>\n",
       "    <tr style=\"text-align: right;\">\n",
       "      <th></th>\n",
       "      <th>Number of people employed</th>\n",
       "    </tr>\n",
       "  </thead>\n",
       "  <tbody>\n",
       "    <tr>\n",
       "      <th>Prof-specialty</th>\n",
       "      <td>25</td>\n",
       "    </tr>\n",
       "  </tbody>\n",
       "</table>\n",
       "</div>"
      ],
      "text/plain": [
       "                Number of people employed\n",
       "Prof-specialty                         25"
      ]
     },
     "execution_count": 45,
     "metadata": {},
     "output_type": "execute_result"
    }
   ],
   "source": [
    "#The most popular occupation for those who earn more than 50K in India.\n",
    "list11 = []\n",
    "for occ in data_frame['occupation']:\n",
    "    occ = occ.strip()\n",
    "    list11.append(occ)\n",
    "\n",
    "data_frame['occupation'] = list11\n",
    "\n",
    "Occupations = data_frame['occupation'].unique().tolist()\n",
    "Index = pd.Series(data_frame['occupation'].unique())\n",
    "list12 = []\n",
    "list13 = []\n",
    "b = 0\n",
    "while b <= np.max(Index.index):\n",
    "    y = data_frame['occupation'][(data_frame['occupation'] == Index[b]) & (data_frame['salary'] == '>50K') & (data_frame['native-country'] == 'India')].count()\n",
    "    list12.append(y)\n",
    "    list13.append(Index[b])\n",
    "    Series12 = pd.Series(list12, index = list13)\n",
    "    df7 = pd.DataFrame(Series12, columns = ['Number of people employed'])\n",
    "    b = b + 1\n",
    "df7[df7['Number of people employed'] == np.max(df7['Number of people employed'])]"
   ]
  }
 ],
 "metadata": {
  "kernelspec": {
   "display_name": "Python 3 (ipykernel)",
   "language": "python",
   "name": "python3"
  },
  "language_info": {
   "codemirror_mode": {
    "name": "ipython",
    "version": 3
   },
   "file_extension": ".py",
   "mimetype": "text/x-python",
   "name": "python",
   "nbconvert_exporter": "python",
   "pygments_lexer": "ipython3",
   "version": "3.10.8"
  }
 },
 "nbformat": 4,
 "nbformat_minor": 5
}
